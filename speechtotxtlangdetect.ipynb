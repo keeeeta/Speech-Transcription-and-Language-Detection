{
 "metadata": {
  "language_info": {
   "codemirror_mode": {
    "name": "ipython",
    "version": 3
   },
   "file_extension": ".py",
   "mimetype": "text/x-python",
   "name": "python",
   "nbconvert_exporter": "python",
   "pygments_lexer": "ipython3",
   "version": "3.9.5"
  },
  "orig_nbformat": 4,
  "kernelspec": {
   "name": "python3",
   "display_name": "Python 3.9.5 64-bit ('PythonSoftwareFoundation.Python.3.9_qbz5n2kfra8p0')"
  },
  "interpreter": {
   "hash": "5cf87dbaba110e7ece343fc38fee9e35932bd70a2a6cd5fabf6a7f0790418233"
  }
 },
 "nbformat": 4,
 "nbformat_minor": 2,
 "cells": [
  {
   "source": [
    "# Speech to text transcritpion and Language detection\n",
    "In this module you will dynamically convert your speech to text and detect which language does it belong to. For that we need to first import the necessary packages\n"
   ],
   "cell_type": "markdown",
   "metadata": {}
  },
  {
   "cell_type": "code",
   "execution_count": null,
   "metadata": {},
   "outputs": [],
   "source": [
    "import pandas as pd\n",
    "import pyaudio\n",
    "import speech_recognition as sr\n",
    "import langdetect\n",
    "from langdetect import detect"
   ]
  },
  {
   "source": [
    "Now lets read the data set that consists of iso639-1 code and its respective language name. For that we need to locally save the dataset from this link (https://pkgstore.datahub.io/core/language-codes/language-codes_csv/data/d63f5134ff40a3e45acc019b0ba156ca/language-codes_csv.csv)"
   ],
   "cell_type": "markdown",
   "metadata": {}
  },
  {
   "cell_type": "code",
   "execution_count": null,
   "metadata": {},
   "outputs": [],
   "source": [
    "data = pd.read_csv(\"language-codes_csv.csv\")\n",
    "data.head(5)"
   ]
  },
  {
   "source": [
    "As we have a look into the dataset, there are two columns viz, 'alpha2' & 'English'. Lets extract these two columns into two lists each for a column"
   ],
   "cell_type": "markdown",
   "metadata": {}
  },
  {
   "source": [
    "The 'code' has the list of iso639-1 codes"
   ],
   "cell_type": "markdown",
   "metadata": {}
  },
  {
   "cell_type": "code",
   "execution_count": null,
   "metadata": {},
   "outputs": [],
   "source": [
    "code = list(data[\"alpha2\"])"
   ]
  },
  {
   "source": [
    "The 'lang' has the list of corresponding languages."
   ],
   "cell_type": "markdown",
   "metadata": {}
  },
  {
   "cell_type": "code",
   "execution_count": null,
   "metadata": {},
   "outputs": [],
   "source": [
    "lang = list(data[\"English\"])"
   ]
  },
  {
   "source": [
    "Now lets dynamically take the voice input so that it is transcribed into text directly. This transcribed text is later detected which language does it belong to and automatically displays the information regarding that."
   ],
   "cell_type": "markdown",
   "metadata": {}
  },
  {
   "cell_type": "code",
   "execution_count": null,
   "metadata": {},
   "outputs": [],
   "source": [
    "r = sr.Recognizer()\n",
    "with sr.Microphone() as source:\n",
    "    print(\"Talk\")\n",
    "    audio_text = r.listen(source)\n",
    "    print(\"Transcribing\")\n",
    "    try:\n",
    "        res = r.recognize_google(audio_text)\n",
    "        print(\"Text: \"+res)\n",
    "        l=detect(res)\n",
    "        f=0\n",
    "        for p in code:\n",
    "            if p == l:\n",
    "                break\n",
    "            else:\n",
    "                f=f+1\n",
    "        print(\"Language: \"+ lang[f])\n",
    "            \n",
    "    except:\n",
    "         print(\"Sorry, I did not get that\")"
   ]
  }
 ]
}